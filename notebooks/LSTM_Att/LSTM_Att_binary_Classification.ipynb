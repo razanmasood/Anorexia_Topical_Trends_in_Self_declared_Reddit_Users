{
 "cells": [
  {
   "cell_type": "code",
   "execution_count": 3,
   "metadata": {},
   "outputs": [
    {
     "name": "stderr",
     "output_type": "stream",
     "text": [
      "Using TensorFlow backend.\n"
     ]
    }
   ],
   "source": [
    "\n",
    "from numpy.random import seed\n",
    "seed(42)\n",
    "\n",
    "import pandas as pd\n",
    "import numpy as np\n",
    "import nltk\n",
    "\n",
    "from keras.preprocessing.sequence import pad_sequences\n",
    "from keras.utils import to_categorical\n",
    "from keras.models import Sequential, Model\n",
    "from keras import optimizers\n",
    "from keras import losses\n",
    "from keras import activations\n",
    "from keras.layers.normalization import BatchNormalization\n",
    "\n",
    "from keras.layers import Dense, Embedding, Softmax, Dropout, Input, Concatenate\n",
    "from keras.layers import SimpleRNN, LSTM, GlobalAveragePooling1D, Bidirectional\n",
    "from keras.layers import Convolution1D, MaxPooling1D, GlobalMaxPooling1D\n",
    "from sklearn.metrics import f1_score\n",
    "from sklearn.preprocessing import StandardScaler\n",
    "\n",
    "from keras import backend as K\n",
    "from keras.engine.topology import Layer\n",
    "from keras import regularizers\n",
    "\n",
    "from sklearn.utils import class_weight\n",
    "\n",
    "import keras_metrics as km\n",
    "\n",
    "import talos as ta\n",
    "from talos.model.normalizers import lr_normalizer\n",
    "\n",
    "import itertools\n",
    "import os\n"
   ]
  },
  {
   "cell_type": "code",
   "execution_count": 5,
   "metadata": {},
   "outputs": [],
   "source": [
    "directory = 'data/'"
   ]
  },
  {
   "cell_type": "code",
   "execution_count": 6,
   "metadata": {},
   "outputs": [
    {
     "name": "stdout",
     "output_type": "stream",
     "text": [
      "590\n"
     ]
    }
   ],
   "source": [
    "# Terms\n",
    "\n",
    "set_0 = {'rate', 'semester', '15th', 'clarity', 'noooope', 'cardiac', 'deadline', 'isolated', 'thrive', 'realize', 'meal', 'asian', 'relapse', 'refresh', 'diagnose', 'frequency', 'maintain', '8ounces', 'psychologist', 'caregiver', 'caution', '3however', 'heart', 'alienation', 'km', 'woe', 'imo', 'mellow', 'cigarette', 'desperately', 'discernable', 'hike', 'passion', 'perseverance', 'ptsd', 'scrapbooke', 'nmother', 'elevate', 'lightheaded', 'seek', 'ignore', 'residential', 'body', 'triggering', 'frustrate', 'south', 'disorders', 'symptom', 'restricting', 'saddle', 'october', 'afloat', 'isolate', 'fathom', 'continuous', 'severe', 'ride', 'buddy', 'ednos', 'hierarchy', 'inpatient', '144', 'passionate', 'unbearably', 'electrolyte', 'accountable', 'fridays', 'misunderstood', 'fast', 'batshit', 'proed', 'pound', 'unstable', 'mechanism', 'healthy', 'weigh', 'lamictal', 'struggle', '93', 'garment', 'vyvanse', 'dietician', 'unattractive', 'hyperthyroidism', 'leotard', 'dysmorphia', 'weight', 'apostrophe', 'clarita', 'recovery', 'anorexic', 'bulimia', 'specialize', 'mpa', 'therapist', 'recover', 'eat', 'ed', 'anorexia', 'disorder'}\n",
    "set_1 = {'adios', 'brendajames', 'darkslay', 'gt', 'halfbro', 'inactive', 'pikaokulucky7', 'shoutouts', 'soccrmom', 'stabbd', 'stale', 'virgoth', 'upwards', 'strategy', 'economic', 'print', 'negative', 'cheesecake', 'furyball', 'noooo', 'whisky', 'hetero', 'pathologist', 'malnourishment', 'february', 'delicate', 'aldc', 'anx', 'authority', 'dissociate', 'peer', 'seeing', 'pharmacology', 'successful', 'ad', 'memorize', 'commit', 'shrink', 'identity', 'booze', 'lightweight', 'liquor', 'poisoning', 'swig', 'shelter', 'flashback', 'linger', 'uncommon', 'behavioral', 'dismiss', 'sheer', 'suggestive', 'drug', 'kite', 'tamaz', 'valium', 'apache', 'helicopter', 'partizan', 'shitshow', 'unstoppable', 'unable', 'massage', 'alcoholic', 'takin', 'beg', 'crying', 'sarcastic', 'uptight', 'pms', 'wheelchair', 'stress', 'patien', 'insomnia', 'noticeably', 'pantie', 'drinking', 'attachment', 'smoking', 'diary', 'economics', 'bum', 'oman', 'harm', 'paige', 'charliehorse', 'suicidal', 'calmly', 'sleep', 'cupple', 'asleep', 'traumatic', 'dissociative', 'daydream', 'emo', 'anxiety', 'depressed', 'scar', 'anxious', 'depression'}\n",
    "set_2 = {'urine', 'stone', 'climb', 'truely', 'fearbola', 'insertion', 'headache', 'syndrome', 'clinic', 'diagnose', 'cancer', 'germ', 'drained', 'headed', 'likewise', 'seene', 'eveybody', 'revise', 'awful', 'airborne', 'droplet', 'particle', 'immune', 'senstive', 'appointment', 'blind', 'furbabie', 'slobbery', 'volunteer', 'fatigue', 'fibromyalgia', 'autistic', 'mute', 'watte', 'standpoint', 'encouragement', 'deal', 'crohn', 'informed', 'suffer', 'aspiration', 'inflammation', 'tarde', 'pig', 'remark', 'aids', 'nausea', 'doctor', 'hospitalize', 'autism', 'xenophobia', 'understate', 'contract', 'relative', 'runny', 'foodborne', 'salmonella', 'viral', 'africa', 'discharge', 'infectious', 'painful', 'est', 'pep', 'facility', 'surgery', 'unerected', 'kidney', 'monger', 'healing', 'pity', 'cure', 'cramp', 'outbreak', 'asthma', 'sinus', 'sickness', 'transfusion', 'fever', 'thyroid', 'infection', 'pneumonia', 'blindness', 'staff', 'spread', 'neb', 'pain', 'uncurable', 'therapist', 'virus', 'pcp', 'ibs', 'hiv', 'endo', 'appt', 'therpist', 'hrt', 'flu', 'disease', 'ebola'}\n",
    "set_3 = {'demeaning', 'regrow', 'snag', 'spool', 'entp', 'abuse', 'familiar', 'text', 'married', 'aide', 'od', 'oxygen', 'sarcoidosis', 'flaky', 'unreliable', 'grieve', 'partner', 'behaviour', 'genuinely', 'trend', 'girlfriend', 'sexually', 'mother', 'break', 'hopeless', 'sponge', 'torment', 'asd', 'authentic', 'cosplayer', 'fulfil', 'maximus', 'chair', 'kid', 'curriculum', 'anger', 'old', 'friend', 'assumption', 'communicate', 'atm', 'dilemma', 'express', 'isle', 'gentleman', 'shy', 'marry', 'notch', 'flow', 'impulsive', 'colourblind', 'courageous', 'shaven', 'typo', 'electric', 'divorce', 'sexual', 'snoop', 'mom', 'insensitive', 'son', 'grin', 'husband', 'client', 'incredibly', 'dad', 'agao', 'newly', 'asda', 'beverly', 'hills', 'housewives', 'thanksgiving', 'license', 'impression', 'google', 'humiliation', 'ex', 'infj', 'abusive', 'favour', 'unfulfilling', 'enraging', 'snap', 'tell', 'toothbrush', 'denial', 'father', 'molester', 'boyfriend', 'tickle', 'upfront', 'dfw', 'daycare', 'immature', 'sister', 'child', 'daughter', 'relationship', 'parent'}\n",
    "set_4 = {'serve', '209', 'omelet', 'hummus', '32', 'portion', 'plan', 'bran', 'blend', 'sauce', 'fast', 'jalfrezi', 'spelt', 'pretzel', 'onion', 'pesto', 'salt', 'nothinglunch', 'lemon', 'cookies', 'cracker', 'fiberone', '140', '150', '28', 'banana', 'cherry', 'patty', 'omega', 'stevia', 'caffeine', 'mini', 'bar', 'horseback', 'trek', 'veggie', 'garlic', 'multi', 'unsweetened', 'vegetarian', 'vegan', 'mix', 'white', 'frozen', 'rice', 'carrot', 'sausage', 'fiber', '34', 'sandwich', 'zucchini', 'oz', 'pasta', 'vanilla', 'spinach', 'food', 'hungry', 'cinnamon', 'bean', 'joe', 'trader', 'potato', 'fridge', '100', 'autumn', 'yogurt', 'fruit', 'cheese', 'bread', 'bagel', 'truvia', 'meal', 'almond', 'mg', 'greek', 'tablespoon', 'snack', 'cream', 'coffee', 'milk', 'eat', 'peanut', 'calorie', 'curry', 'quest', 'cereal', 'butter', 'stack', 'lunch', '200', 'protein', 'dinner', 'cal', 'powder', 'egg', 'cup', 'fage', 'total', 'chicken', 'breakfast'}\n",
    "set_5 = {'compulsively', 'dishonest', 'restrict', 'mentality', 'underweight', 'wight', 'happiness', 'whoops', 'borderline', 'weighing', '2200', 'fist', 'welp', 'gratifying', 'eveeeer', '40lbs', 'dainty', 'cardio', 'eatingdisorder', '5k', 'f22', '181', 'unnatractive', 'morbidly', 'biking', 'bulky', '188', 'cw', 'plateaus', '256', 'look', '22', '122', 'promote', '158', 'wl', 'expression', 'classify', 'eighteen', '148', 'liar', '65', 'strenuous', 'yeeeah', 'starting', 'sizes', '270', '96', 'scale', 'lw', 'flattering', '110', 'mirror', 'exercise', 'waist', 'thigh', 'big', 'feel', '96lbs', 'yo', '107', 'loss', 'healthy', '30e', 'excess', 'need', 'scare', 'corset', 'tall', 'hw', 'sexy', '92', '132', '170', 'skinny', '123', 'ft', 'ugw', 'cm', 'body', 'ss', '22f', '10lbs', 'weigh', 'unhealthy', '120', 'lbs', 'muscle', 'obese', 'overweight', 'size', 'cus', 'height', 'lb', 'bmi', 'gain', 'pound', 'fat', 'lose', 'weight'}\n",
    "set_6 = {'urine', 'stone', 'climb', 'truely', 'fearbola', 'insertion', 'headache', 'syndrome', 'clinic', 'diagnose', 'cancer', 'germ', 'drained', 'headed', 'likewise', 'seene', 'eveybody', 'revise', 'awful', 'airborne', 'droplet', 'particle', 'immune', 'senstive', 'appointment', 'blind', 'furbabie', 'slobbery', 'volunteer', 'fatigue', 'fibromyalgia', 'autistic', 'mute', 'watte', 'standpoint', 'encouragement', 'deal', 'crohn', 'informed', 'suffer', 'aspiration', 'inflammation', 'tarde', 'pig', 'remark', 'aids', 'nausea', 'doctor', 'hospitalize', 'autism', 'xenophobia', 'understate', 'contract', 'relative', 'runny', 'foodborne', 'salmonella', 'viral', 'africa', 'discharge', 'infectious', 'painful', 'est', 'pep', 'facility', 'surgery', 'unerected', 'kidney', 'monger', 'healing', 'pity', 'cure', 'cramp', 'outbreak', 'asthma', 'sinus', 'sickness', 'transfusion', 'fever', 'thyroid', 'infection', 'pneumonia', 'blindness', 'staff', 'spread', 'neb', 'pain', 'uncurable', 'therapist', 'virus', 'pcp', 'ibs', 'hiv', 'endo', 'appt', 'therpist', 'hrt', 'flu', 'disease', 'ebola'}\n",
    "pattern_set= set_0.union(set_1, set_2, set_3, set_4, set_5, set_6)\n",
    "\n",
    "print(len(pattern_set))\n",
    "patterns = list(pattern_set)"
   ]
  },
  {
   "cell_type": "code",
   "execution_count": 7,
   "metadata": {},
   "outputs": [],
   "source": [
    "# This data contains posts that are only 70 tokens length. If the post is longet then only the head and the tail \n",
    "#(35 tokens length each) are concidered\n",
    "train_df = pd.read_csv(directory+'train.csv')\n",
    "dev_df = pd.read_csv(directory+'dev.csv')\n",
    "test_df = pd.read_csv(directory+'test.csv')"
   ]
  },
  {
   "cell_type": "code",
   "execution_count": null,
   "metadata": {},
   "outputs": [],
   "source": [
    "train_text = train_df.short_posts\n",
    "train_words = [ nltk.word_tokenize( str(post) ) for post in train_text ]\n",
    "X_content_train = train_words\n"
   ]
  },
  {
   "cell_type": "code",
   "execution_count": 9,
   "metadata": {},
   "outputs": [],
   "source": [
    "dev_text = dev_df.short_posts\n",
    "dev_words = [ nltk.word_tokenize( str(post) ) for post in dev_text ]\n",
    "X_content_dev = dev_words\n"
   ]
  },
  {
   "cell_type": "code",
   "execution_count": null,
   "metadata": {},
   "outputs": [],
   "source": [
    "test_text = test_df.short_posts\n",
    "test_words = [ nltk.word_tokenize( str(post) ) for post in test_text ]\n",
    "X_content_test = test_words\n"
   ]
  },
  {
   "cell_type": "code",
   "execution_count": 11,
   "metadata": {},
   "outputs": [
    {
     "name": "stdout",
     "output_type": "stream",
     "text": [
      "Vocabulary size: 10475\n",
      "Most frequent tokens\n",
      "\tnot: 1187\n",
      "\tget: 731\n",
      "\tlike: 676\n",
      "\twould: 584\n",
      "\tgo: 572\n",
      "\tthink: 479\n",
      "\tknow: 477\n",
      "\tmake: 423\n",
      "\treally: 405\n",
      "\tone: 402\n",
      "Least frequent tokens\n",
      "\tuptight: 1\n",
      "\tdemeaning: 1\n",
      "\tdarkslay: 1\n",
      "\tcaregiver: 1\n",
      "\tflow: 1\n",
      "\tjoe: 1\n",
      "\tcrohn: 1\n",
      "\tinsensitive: 1\n",
      "\tcharliehorse: 1\n",
      "\tshoutouts: 1\n",
      "Max. Sequence Length: 70\n"
     ]
    }
   ],
   "source": [
    "# Prepare vocabulary\n",
    "max_seq_len = 0\n",
    "EMBEDDING_DIM = 300\n",
    "UNK_TOKEN = '__unk__'\n",
    "#max_seq = None\n",
    "\n",
    "#Here the code is dealing with tweets and takes the maximum length of a tweet as input\n",
    "#This should be changed to work with reddit posts which are longer.\n",
    "#A suggestion is to consider the avg length and take the beginning and the tail of a lengthy post\n",
    "\n",
    "full_vocab = dict()\n",
    "for instance in X_content_train:\n",
    "    max_seq_len = max(max_seq_len, len(instance))\n",
    "    for token in instance:\n",
    "        full_vocab[token] = 1 + full_vocab.get(token, 0)\n",
    "        \n",
    "for instance in X_content_dev:\n",
    "    max_seq_len = max(max_seq_len, len(instance))   \n",
    "\n",
    "for instance in X_content_test:\n",
    "    max_seq_len = max(max_seq_len, len(instance))\n",
    "    \n",
    "for voc in patterns:\n",
    "    full_vocab[voc] = 1 + full_vocab.get(voc, 0)  \n",
    "# Sort vocabulary by occurrence\n",
    "sorted_vocab = sorted(full_vocab.keys(), key=lambda word: -full_vocab[word])\n",
    "\n",
    "# Print some samples\n",
    "print(\"Vocabulary size: %d\"%(len(sorted_vocab)))\n",
    "print(\"Most frequent tokens\")\n",
    "for i in range(10):\n",
    "    print(\"\\t%s: %d\"%(sorted_vocab[i], full_vocab[sorted_vocab[i]]))\n",
    "print(\"Least frequent tokens\")\n",
    "for i in range(1,11):\n",
    "    print(\"\\t%s: %d\"%(sorted_vocab[-i], full_vocab[sorted_vocab[-i]]))\n",
    "\n",
    "if len(sorted_vocab) >= 10000:\n",
    "    vocab_size = 10000\n",
    "else:\n",
    "    vocab_size = len(sorted_vocab)\n",
    "print(\"Max. Sequence Length: %d\"%(max_seq_len))\n",
    "#print max_seq\n",
    "# Create final vocab\n",
    "word2idx = {w: idx for idx, w in enumerate(sorted_vocab[:vocab_size])}\n",
    "idx2word = {idx: w for idx, w in enumerate(sorted_vocab[:vocab_size])}\n",
    "\n",
    "word2idx[UNK_TOKEN] = vocab_size\n",
    "idx2word[vocab_size] = UNK_TOKEN\n",
    "vocab_size = vocab_size + 1\n",
    "\n",
    "X_content_train = [[t if t in word2idx else UNK_TOKEN for t in instance] for instance in X_content_train]\n",
    "X_content_dev = [[t if t in word2idx else UNK_TOKEN for t in instance] for instance in X_content_dev]\n",
    "X_content_test = [[t if t in word2idx else UNK_TOKEN for t in instance] for instance in X_content_test]\n"
   ]
  },
  {
   "cell_type": "code",
   "execution_count": 12,
   "metadata": {},
   "outputs": [
    {
     "data": {
      "text/plain": [
       "70"
      ]
     },
     "execution_count": 12,
     "metadata": {},
     "output_type": "execute_result"
    }
   ],
   "source": [
    "max_seq_len"
   ]
  },
  {
   "cell_type": "code",
   "execution_count": 13,
   "metadata": {},
   "outputs": [
    {
     "name": "stdout",
     "output_type": "stream",
     "text": [
      "Number of tokens filtered out as unknown:\n",
      "Train: 459/65473\n",
      "Dev: 2831/23066\n",
      "Test: 2515/20651\n"
     ]
    }
   ],
   "source": [
    "print(\"Number of tokens filtered out as unknown:\")\n",
    "print(\"Train: %d/%d\"%(len([1 for instance in X_content_train for t in instance if t == UNK_TOKEN]), sum([len(i) for i in X_content_train])))\n",
    "print(\"Dev: %d/%d\"%(len([1 for instance in X_content_dev for t in instance if t == UNK_TOKEN]), sum([len(i) for i in X_content_dev])))\n",
    "print(\"Test: %d/%d\"%(len([1 for instance in X_content_test for t in instance if t == UNK_TOKEN]), sum([len(i) for i in X_content_test])))\n"
   ]
  },
  {
   "cell_type": "code",
   "execution_count": 14,
   "metadata": {},
   "outputs": [],
   "source": [
    "\n",
    "def data_to_tensor(data, pad_value=vocab_size):\n",
    "    # First convert from words to indices\n",
    "    idx_data = [[word2idx[t] for t in instance] for instance in data]\n",
    "    \n",
    "    # Create numpy representation\n",
    "    return pad_sequences([np.array(d) for d in idx_data], maxlen=max_seq_len, value=pad_value)"
   ]
  },
  {
   "cell_type": "code",
   "execution_count": 15,
   "metadata": {},
   "outputs": [],
   "source": [
    "X_content_train = data_to_tensor(X_content_train)\n",
    "X_content_dev = data_to_tensor(X_content_dev)\n",
    "X_content_test = data_to_tensor(X_content_test)\n",
    "vocab_size = vocab_size + 1"
   ]
  },
  {
   "cell_type": "code",
   "execution_count": 16,
   "metadata": {},
   "outputs": [
    {
     "name": "stdout",
     "output_type": "stream",
     "text": [
      "Loaded 8695/10001 pre-trained vectors\n"
     ]
    }
   ],
   "source": [
    "embeddings_index = {}\n",
    "f = open(os.path.join('glove/', 'glove.42B.300d.txt'))\n",
    "for line in f:\n",
    "    values = line.split()\n",
    "    word = values[0]\n",
    "    coefs = np.asarray(values[1:], dtype='float32')\n",
    "    embeddings_index[word] = coefs\n",
    "f.close()\n",
    "\n",
    "#print('Found %s word vectors.' % len(embeddings_index))\n",
    "\n",
    "found = 0\n",
    "embedding_matrix = np.zeros((len(word2idx) + 1, EMBEDDING_DIM))\n",
    "for word, i in word2idx.items():\n",
    "    embedding_vector = embeddings_index.get(word)\n",
    "    if embedding_vector is not None:\n",
    "        # words not found in embedding index will be all-zeros.\n",
    "        embedding_matrix[i] = embedding_vector\n",
    "        found += 1        \n",
    "        \n",
    "print(\"Loaded %d/%d pre-trained vectors\"%(found, len(word2idx)))"
   ]
  },
  {
   "cell_type": "code",
   "execution_count": 18,
   "metadata": {},
   "outputs": [],
   "source": [
    "\n",
    "train_df['binary'] = train_df.main_label.replace([0,1,2,3,4,5,6],1)\n",
    "train_df['binary'] = train_df['binary'].replace(7,0)\n",
    "train_df.binary.value_counts()\n",
    "y_train = train_df.binary.values"
   ]
  },
  {
   "cell_type": "code",
   "execution_count": 19,
   "metadata": {},
   "outputs": [
    {
     "name": "stdout",
     "output_type": "stream",
     "text": [
      "0.0    2549\n",
      "1.0     740\n",
      "Name: binary, dtype: int64\n"
     ]
    }
   ],
   "source": [
    "print(train_df.binary.value_counts())"
   ]
  },
  {
   "cell_type": "code",
   "execution_count": 20,
   "metadata": {},
   "outputs": [
    {
     "name": "stdout",
     "output_type": "stream",
     "text": [
      "0.0    765\n",
      "1.0    220\n",
      "Name: binary, dtype: int64\n"
     ]
    }
   ],
   "source": [
    "dev_df['binary'] = dev_df.main_label.replace([0,1,2,3,4,5,6],1)\n",
    "dev_df['binary'] = dev_df['binary'].replace(7,0)\n",
    "print(dev_df.binary.value_counts())\n",
    "y_dev = dev_df.binary.values"
   ]
  },
  {
   "cell_type": "code",
   "execution_count": 21,
   "metadata": {},
   "outputs": [
    {
     "name": "stdout",
     "output_type": "stream",
     "text": [
      "0.0    645\n",
      "1.0    189\n",
      "Name: binary, dtype: int64\n"
     ]
    }
   ],
   "source": [
    "test_df['binary'] = test_df.main_label.replace([0,1,2,3,4,5,6],1)\n",
    "test_df['binary'] = test_df['binary'].replace(7,0)\n",
    "print(test_df.binary.value_counts())\n",
    "y_test = test_df.binary.values"
   ]
  },
  {
   "cell_type": "code",
   "execution_count": 22,
   "metadata": {},
   "outputs": [
    {
     "name": "stdout",
     "output_type": "stream",
     "text": [
      "Number of train labels:  3289\n",
      "Number of dev labels:  985\n",
      "Number of test labels:  834\n"
     ]
    }
   ],
   "source": [
    "print(\"Number of train labels: \", len(y_train))\n",
    "print(\"Number of dev labels: \", len(y_dev))\n",
    "print(\"Number of test labels: \", len(y_test))\n",
    "#remove to_categorical in case of sigmoid\n",
    "y_train = to_categorical(y_train)\n",
    "y_dev = to_categorical(y_dev)\n",
    "old_y_test = y_test\n",
    "y_test = to_categorical(y_test)"
   ]
  },
  {
   "cell_type": "code",
   "execution_count": 23,
   "metadata": {},
   "outputs": [],
   "source": [
    "# attention layer class\n",
    "class InnerAttention(Layer):\n",
    "    def __init__(self, return_attention=False, **kwargs):\n",
    "        \"\"\"\n",
    "        # Input shapes\n",
    "            3D tensor with shape: `(samples, steps, features)`.\n",
    "            2D tensor with shape: `(samples, features)`.\n",
    "        # Output shape\n",
    "            3D tensor with shape: `(samples, steps, features)`.\n",
    "        \"\"\"\n",
    "        self.return_attention = return_attention\n",
    "        super(InnerAttention, self).__init__(**kwargs)\n",
    "    \n",
    "    def build(self, input_shapes):\n",
    "        X, u = input_shapes\n",
    "        print(\"input shapes\", input_shapes)\n",
    "        # Save some parameters for future convinience\n",
    "        self.seq_length = X[1]\n",
    "        self.embed_size = X[2]\n",
    "\n",
    "        # Assumes embedding size of X and u is the same\n",
    "        self.W = self.add_weight(name='kernel',\n",
    "                                      shape=(self.embed_size, self.embed_size),\n",
    "                                      initializer='uniform',\n",
    "                                      trainable=True)\n",
    "        super(InnerAttention, self).build(input_shapes)\n",
    "    \n",
    "    def call(self, inputs):\n",
    "        X, u = inputs\n",
    "\n",
    "        # Compute u' . W_s\n",
    "        uW = K.dot(u, self.W)\n",
    "\n",
    "        # Compute u' . W_s . X\n",
    "        uWX = K.batch_dot(uW, X, axes=[1,2])\n",
    "        \n",
    "        # Apply Sigmoid\n",
    "        alpha = K.sigmoid(uWX)\n",
    "        \n",
    "        # Weigh each element of matrix X using alpha\n",
    "        result = inputs[0] * K.reshape(alpha, (-1, self.seq_length, 1))\n",
    "\n",
    "        if self.return_attention:\n",
    "            return [result, alpha]\n",
    "        return result\n",
    "    \n",
    "    def compute_output_shape(self, input_shapes):\n",
    "        X_shape, _ = input_shapes\n",
    "        if self.return_attention:\n",
    "            return [X_shape, X_shape[1]]\n",
    "        else:\n",
    "            return X_shape\n"
   ]
  },
  {
   "cell_type": "code",
   "execution_count": 25,
   "metadata": {},
   "outputs": [
    {
     "name": "stdout",
     "output_type": "stream",
     "text": [
      "vocab_size : 10002\n",
      "length word2idx : 10001\n"
     ]
    }
   ],
   "source": [
    "print(\"vocab_size :\", vocab_size)\n",
    "print(\"length word2idx :\", len(word2idx))  "
   ]
  },
  {
   "cell_type": "code",
   "execution_count": 26,
   "metadata": {},
   "outputs": [],
   "source": [
    "from numpy.random import seed\n",
    "seed(42)\n",
    "\n",
    "embedding_layer = Embedding(input_dim=vocab_size,\n",
    "                            output_dim=EMBEDDING_DIM,\n",
    "                            weights=[embedding_matrix],\n",
    "                            trainable=False)  \n",
    "\n",
    "pattern_data = np.array([word2idx[t.lower()] for t in patterns if t.lower() in word2idx])\n",
    "pattern_size = len(pattern_data)\n",
    "        \n",
    "train_size = len(y_train)\n",
    "dev_size = len(y_dev)\n",
    "test_size = len(y_test)\n",
    "\n",
    "X_pattern_train = np.zeros((train_size,pattern_size))\n",
    "for i in range(train_size):\n",
    "    X_pattern_train[i] = pattern_data\n",
    "    \n",
    "X_pattern_dev = np.zeros((dev_size,pattern_size))\n",
    "for i in range(dev_size):\n",
    "    X_pattern_dev[i] = pattern_data  \n",
    "    \n",
    "X_pattern_test = np.zeros((test_size,pattern_size))\n",
    "for i in range(test_size):\n",
    "    X_pattern_test[i] = pattern_data      \n",
    "    "
   ]
  },
  {
   "cell_type": "code",
   "execution_count": 28,
   "metadata": {},
   "outputs": [],
   "source": [
    "X_train = [X_content_train, X_pattern_train]\n",
    "X_dev = [X_content_dev, X_pattern_dev] \n",
    "X_test = [X_content_test, X_pattern_test]\n",
    "\n",
    "pattern_input = Input(shape=(pattern_size,), dtype='float32', name='pattern_input')\n",
    "pattern_embed = embedding_layer(pattern_input)\n",
    "pattern_embed = GlobalAveragePooling1D()(pattern_embed) \n",
    "\n",
    "tweet_sentence_input = Input(shape=(max_seq_len,), dtype='int32', name='tweet_sentence_input')\n",
    "tweet_embed = embedding_layer(tweet_sentence_input)\n"
   ]
  },
  {
   "cell_type": "code",
   "execution_count": 29,
   "metadata": {},
   "outputs": [
    {
     "name": "stdout",
     "output_type": "stream",
     "text": [
      "input shapes [(None, 70, 300), (None, 300)]\n",
      "input shapes [(None, 70, 300), (None, 300)]\n"
     ]
    }
   ],
   "source": [
    "x, attn = InnerAttention(return_attention=True)([tweet_embed, pattern_embed])\n",
    "x = InnerAttention()([tweet_embed, pattern_embed])  \n",
    "x = LSTM(16, \n",
    "         #recurrent_dropout=0.01\n",
    "        )(x)\n",
    "x = Dropout(0.01)(x)\n",
    "x = Dense(2, activation='softmax')(x) "
   ]
  },
  {
   "cell_type": "code",
   "execution_count": 31,
   "metadata": {},
   "outputs": [
    {
     "name": "stdout",
     "output_type": "stream",
     "text": [
      "[0. 1.]\n",
      "[0.64515496 2.2222973 ]\n",
      "(?, 70, 300)\n",
      "(?, 70)\n"
     ]
    }
   ],
   "source": [
    "print( np.unique(y_train))\n",
    "class_weights = class_weight.compute_class_weight('balanced',\n",
    "                                                 np.unique(y_train),\n",
    "                                                 train_df['binary'])\n",
    "print(class_weights)\n",
    "print(tweet_embed.shape)\n",
    "print(tweet_sentence_input.shape)"
   ]
  },
  {
   "cell_type": "code",
   "execution_count": 32,
   "metadata": {},
   "outputs": [
    {
     "name": "stdout",
     "output_type": "stream",
     "text": [
      "Model: \"model_1\"\n",
      "__________________________________________________________________________________________________\n",
      "Layer (type)                    Output Shape         Param #     Connected to                     \n",
      "==================================================================================================\n",
      "tweet_sentence_input (InputLaye (None, 70)           0                                            \n",
      "__________________________________________________________________________________________________\n",
      "pattern_input (InputLayer)      (None, 574)          0                                            \n",
      "__________________________________________________________________________________________________\n",
      "embedding_1 (Embedding)         multiple             3000600     pattern_input[0][0]              \n",
      "                                                                 tweet_sentence_input[0][0]       \n",
      "__________________________________________________________________________________________________\n",
      "global_average_pooling1d_1 (Glo (None, 300)          0           embedding_1[0][0]                \n",
      "__________________________________________________________________________________________________\n",
      "inner_attention_2 (InnerAttenti (None, 70, 300)      90000       embedding_1[1][0]                \n",
      "                                                                 global_average_pooling1d_1[0][0] \n",
      "__________________________________________________________________________________________________\n",
      "lstm_1 (LSTM)                   (None, 16)           20288       inner_attention_2[0][0]          \n",
      "__________________________________________________________________________________________________\n",
      "dropout_1 (Dropout)             (None, 16)           0           lstm_1[0][0]                     \n",
      "__________________________________________________________________________________________________\n",
      "dense_1 (Dense)                 (None, 2)            34          dropout_1[0][0]                  \n",
      "==================================================================================================\n",
      "Total params: 3,110,922\n",
      "Trainable params: 110,322\n",
      "Non-trainable params: 3,000,600\n",
      "__________________________________________________________________________________________________\n",
      "WARNING:tensorflow:From /usr/local/lib/python3.6/dist-packages/tensorflow/python/ops/math_grad.py:1250: add_dispatch_support.<locals>.wrapper (from tensorflow.python.ops.array_ops) is deprecated and will be removed in a future version.\n",
      "Instructions for updating:\n",
      "Use tf.where in 2.0, which has the same broadcast rule as np.where\n",
      "WARNING:tensorflow:From /usr/lib/python3.6/site-packages/keras/backend/tensorflow_backend.py:422: The name tf.global_variables is deprecated. Please use tf.compat.v1.global_variables instead.\n",
      "\n",
      "Train on 3289 samples, validate on 985 samples\n",
      "Epoch 1/12\n",
      " - 5s - loss: 0.1129 - acc: 0.6683 - val_loss: 0.1013 - val_acc: 0.7706\n",
      "Epoch 2/12\n",
      " - 5s - loss: 0.0933 - acc: 0.7744 - val_loss: 0.0932 - val_acc: 0.7706\n",
      "Epoch 3/12\n",
      " - 5s - loss: 0.0856 - acc: 0.7872 - val_loss: 0.0884 - val_acc: 0.7787\n",
      "Epoch 4/12\n",
      " - 5s - loss: 0.0773 - acc: 0.8069 - val_loss: 0.0798 - val_acc: 0.7990\n",
      "Epoch 5/12\n",
      " - 5s - loss: 0.0630 - acc: 0.8492 - val_loss: 0.0625 - val_acc: 0.8447\n",
      "Epoch 6/12\n",
      " - 5s - loss: 0.0513 - acc: 0.8808 - val_loss: 0.0562 - val_acc: 0.8629\n",
      "Epoch 7/12\n",
      " - 5s - loss: 0.0462 - acc: 0.8884 - val_loss: 0.0551 - val_acc: 0.8650\n",
      "Epoch 8/12\n",
      " - 5s - loss: 0.0433 - acc: 0.8927 - val_loss: 0.0487 - val_acc: 0.8772\n",
      "Epoch 9/12\n",
      " - 5s - loss: 0.0418 - acc: 0.8960 - val_loss: 0.0485 - val_acc: 0.8690\n",
      "Epoch 10/12\n",
      " - 5s - loss: 0.0399 - acc: 0.8997 - val_loss: 0.0483 - val_acc: 0.8711\n",
      "Epoch 11/12\n",
      " - 5s - loss: 0.0390 - acc: 0.9018 - val_loss: 0.0473 - val_acc: 0.8701\n",
      "Epoch 12/12\n",
      " - 5s - loss: 0.0380 - acc: 0.9048 - val_loss: 0.0471 - val_acc: 0.8741\n"
     ]
    }
   ],
   "source": [
    "model = Model(inputs=[tweet_sentence_input, pattern_input], outputs=x)\n",
    "\n",
    "optimizer = optimizers.Adam(lr=0.0001)\n",
    "model.summary()\n",
    "model.compile(loss='mean_squared_logarithmic_error', optimizer=optimizer, metrics=['acc'])  \n",
    "history = model.fit(X_train, y_train, batch_size=32, #class_weight=class_weights,\n",
    "          epochs=12, verbose=2, validation_data=(X_dev, y_dev))  "
   ]
  },
  {
   "cell_type": "code",
   "execution_count": 45,
   "metadata": {},
   "outputs": [
    {
     "name": "stdout",
     "output_type": "stream",
     "text": [
      "834/834 [==============================] - 0s 342us/step\n",
      "[0.0458154749913628, 0.8848921060562134]\n",
      "834/834 [==============================] - 0s 381us/step\n",
      "Test Set Accuracy: 88.49%\n",
      " Gold Standard Test:  [0. 0. 0. 0. 0. 0. 0. 0. 0. 0. 0. 0. 0. 0. 0. 0. 0. 0. 0. 0. 0. 1. 0. 0.\n",
      " 0. 1. 0. 0. 0. 0. 0. 0. 0. 0. 0. 0. 0. 1. 0. 0. 0. 0. 0. 0. 0. 0. 0. 0.\n",
      " 0. 0. 0. 0. 0. 0. 0. 0. 0. 0. 0. 0. 0. 1. 0. 0. 0. 1. 0. 1. 1. 0. 1. 1.\n",
      " 0. 0. 0. 0. 1. 1. 1. 0. 1. 0. 0. 0. 0. 0. 1. 0. 0. 0. 0. 1. 0. 0. 0. 1.\n",
      " 0. 0. 1. 0. 1. 1. 1. 1. 0. 1. 1. 0. 0. 1. 1. 0. 1. 1. 1. 0. 0. 0. 0. 0.\n",
      " 0. 0. 0. 0. 1. 0. 0. 0. 0. 0. 0. 1. 0. 0. 0. 0. 0. 0. 0. 0. 0. 0. 0. 0.\n",
      " 0. 0. 0. 0. 0. 0. 0. 0. 0. 0. 0. 0. 0. 0. 0. 0. 0. 0. 0. 0. 0. 0. 0. 0.\n",
      " 0. 1. 0. 1. 0. 1. 0. 0. 0. 0. 0. 0. 0. 0. 0. 0. 0. 0. 0. 0. 0. 0. 0. 0.\n",
      " 0. 0. 0. 0. 0. 0. 0. 0. 0. 0. 0. 0. 1. 0. 0. 0. 0. 0. 0. 0. 0. 0. 0. 0.\n",
      " 0. 0. 0. 0. 0. 0. 0. 0. 0. 0. 0. 0. 0. 0. 0. 1. 0. 0. 0. 0. 0. 0. 0. 0.\n",
      " 0. 0. 0. 0. 0. 0. 0. 0. 0. 0. 0. 1. 0. 0. 0. 0. 0. 0. 0. 0. 0. 0. 0. 0.\n",
      " 0. 0. 0. 0. 0. 0. 0. 0. 0. 1. 0. 0. 1. 0. 0. 0. 0. 0. 0. 0. 0. 0. 0. 0.\n",
      " 0. 0. 0. 0. 0. 0. 0. 0. 0. 0. 0. 0. 0. 0. 0. 0. 0. 0. 0. 1. 0. 0. 0. 0.\n",
      " 0. 0. 0. 1. 1. 0. 0. 0. 0. 0. 0. 0. 0. 0. 0. 0. 0. 1. 0. 0. 0. 0. 0. 1.\n",
      " 0. 0. 0. 0. 0. 0. 1. 1. 0. 0. 0. 0. 0. 0. 0. 0. 0. 0. 0. 0. 0. 0. 1. 0.\n",
      " 0. 0. 0. 0. 0. 0. 1. 0. 0. 0. 0. 0. 0. 0. 0. 0. 0. 0. 0. 0. 0. 0. 0. 0.\n",
      " 0. 0. 0. 0. 0. 0. 0. 0. 0. 0. 0. 0. 0. 0. 1. 0. 0. 0. 0. 0. 0. 0. 0. 0.\n",
      " 0. 0. 0. 0. 0. 0. 0. 0. 0. 0. 0. 0. 0. 0. 0. 0. 0. 0. 0. 0. 0. 0. 0. 0.\n",
      " 0. 0. 0. 0. 0. 0. 0. 0. 0. 0. 0. 1. 1. 1. 1. 1. 0. 0. 0. 0. 0. 0. 0. 0.\n",
      " 0. 0. 1. 0. 1. 0. 1. 1. 0. 0. 0. 0. 0. 1. 0. 0. 0. 0. 0. 0. 0. 0. 1. 0.\n",
      " 0. 0. 0. 1. 0. 0. 0. 0. 0. 0. 0. 0. 0. 0. 0. 0. 0. 0. 0. 0. 0. 0. 1. 0.\n",
      " 0. 0. 0. 0. 0. 1. 1. 0. 0. 0. 0. 0. 0. 1. 0. 0. 0. 0. 1. 1. 1. 1. 0. 0.\n",
      " 0. 0. 0. 0. 0. 1. 0. 1. 1. 1. 1. 1. 1. 1. 1. 0. 0. 1. 1. 1. 0. 1. 0. 0.\n",
      " 0. 0. 1. 1. 1. 1. 0. 0. 0. 0. 1. 0. 0. 0. 1. 1. 1. 1. 1. 0. 0. 0. 1. 0.\n",
      " 0. 1. 0. 1. 0. 0. 1. 1. 0. 0. 0. 0. 0. 1. 1. 0. 0. 0. 0. 0. 1. 0. 1. 0.\n",
      " 1. 1. 1. 0. 0. 0. 1. 0. 0. 1. 1. 1. 1. 0. 0. 1. 0. 0. 0. 1. 1. 1. 0. 1.\n",
      " 0. 1. 0. 0. 0. 0. 0. 1. 0. 1. 0. 1. 1. 1. 0. 1. 0. 0. 0. 0. 0. 1. 1. 1.\n",
      " 1. 0. 1. 1. 1. 1. 1. 1. 1. 0. 1. 0. 0. 0. 0. 0. 0. 0. 1. 1. 1. 1. 0. 1.\n",
      " 1. 0. 0. 0. 0. 1. 0. 0. 1. 0. 0. 1. 1. 1. 0. 0. 1. 0. 0. 0. 0. 0. 0. 0.\n",
      " 0. 1. 0. 0. 0. 0. 0. 0. 0. 0. 0. 0. 0. 0. 0. 0. 0. 0. 0. 0. 0. 0. 0. 0.\n",
      " 0. 0. 0. 0. 0. 0. 0. 0. 0. 0. 0. 0. 1. 1. 1. 1. 1. 1. 1. 0. 1. 1. 0. 1.\n",
      " 0. 0. 1. 1. 1. 1. 1. 0. 1. 0. 1. 1. 1. 1. 0. 1. 1. 0. 1. 0. 0. 1. 0. 1.\n",
      " 1. 0. 1. 1. 0. 1. 1. 1. 1. 1. 1. 1. 1. 1. 1. 0. 0. 0. 1. 0. 1. 1. 0. 0.\n",
      " 1. 0. 0. 1. 0. 0. 0. 1. 0. 0. 0. 0. 0. 0. 0. 0. 0. 0. 0. 0. 0. 0. 0. 0.\n",
      " 0. 0. 0. 0. 0. 0. 0. 0. 0. 0. 0. 0. 0. 0. 0. 0. 0. 0.]\n",
      "Test Predictions:  [0 0 0 0 0 0 0 0 0 0 0 0 0 0 0 0 0 0 0 0 0 1 0 0 0 0 0 0 0 0 0 0 0 0 0 0 0\n",
      " 0 0 0 0 0 1 0 0 0 0 0 0 0 0 0 0 0 0 0 0 0 0 0 1 1 0 0 0 1 0 1 0 1 0 1 0 0\n",
      " 0 0 1 1 0 0 1 0 1 0 0 0 1 0 0 0 0 1 1 0 0 1 1 1 1 0 0 0 0 0 0 1 0 0 0 0 0\n",
      " 0 1 0 1 0 0 0 0 0 0 0 0 0 1 0 0 0 0 0 0 0 0 0 0 0 0 0 0 0 0 0 0 0 0 0 0 0\n",
      " 0 0 0 0 0 0 0 0 0 0 0 0 0 0 0 0 0 0 0 0 0 1 0 1 0 1 1 0 0 0 0 0 0 0 0 0 0\n",
      " 1 0 0 0 0 0 0 0 0 1 0 0 0 0 0 0 0 0 0 1 0 0 0 1 0 0 0 1 0 0 0 0 0 0 0 0 0\n",
      " 0 1 0 0 0 0 0 0 0 1 0 1 0 0 0 0 0 0 0 0 0 0 0 0 0 0 0 0 0 1 0 0 0 0 0 0 0\n",
      " 0 0 0 0 0 0 0 0 0 0 0 0 0 0 1 0 0 0 0 0 0 0 0 0 0 0 0 0 0 0 0 0 0 0 0 0 0\n",
      " 0 0 0 0 0 0 0 0 0 0 0 1 0 0 0 0 0 0 0 0 0 0 0 0 0 0 0 0 0 0 0 0 0 1 0 1 0\n",
      " 0 0 0 0 0 0 0 0 0 1 1 0 0 0 0 0 0 1 0 0 0 0 0 0 0 0 1 1 0 0 0 0 0 1 0 0 0\n",
      " 0 0 0 0 0 0 0 0 0 0 0 0 0 0 1 0 0 0 0 0 0 0 0 0 0 0 0 0 1 0 0 0 0 0 0 0 0\n",
      " 0 0 0 0 0 0 0 0 0 0 0 0 0 0 0 0 0 0 0 0 0 0 0 0 0 0 0 0 0 0 0 0 0 1 0 0 1\n",
      " 1 1 1 1 0 0 0 0 0 0 0 0 0 0 0 0 0 0 1 1 0 0 0 0 0 1 0 0 0 0 0 0 0 0 1 0 0\n",
      " 0 1 0 0 0 0 0 0 0 0 0 0 0 0 0 0 0 0 0 0 0 1 0 0 0 0 0 0 1 0 0 0 0 0 0 0 0\n",
      " 0 0 0 0 1 1 1 1 0 0 0 0 0 0 0 1 0 0 1 1 1 1 1 0 1 0 0 0 0 1 0 1 0 0 0 0 1\n",
      " 1 1 1 0 0 0 0 1 0 0 0 1 0 1 1 0 0 0 0 0 0 0 1 0 1 0 0 1 1 0 0 0 0 0 1 1 0\n",
      " 0 0 0 0 1 0 0 0 1 0 1 0 0 0 1 0 0 0 1 1 1 1 1 1 0 0 0 1 1 1 0 1 0 1 0 0 0\n",
      " 0 0 0 0 1 0 1 1 1 0 1 0 0 1 0 1 1 1 1 1 0 1 0 1 0 0 1 1 0 1 0 0 0 0 0 0 0\n",
      " 1 1 1 1 0 0 0 0 0 0 0 0 0 0 1 0 0 0 0 1 0 0 1 0 0 0 0 0 0 0 0 1 0 0 0 0 0\n",
      " 0 0 0 0 0 0 0 0 0 0 0 0 0 0 1 0 0 0 0 0 0 1 0 0 1 0 0 1 0 0 1 0 0 0 0 0 0\n",
      " 0 1 0 1 0 0 1 0 0 1 0 0 1 0 0 1 0 1 0 0 0 0 1 0 0 1 0 0 1 0 1 0 0 1 0 0 1\n",
      " 1 1 1 1 1 0 0 0 0 0 0 0 0 0 0 1 0 0 0 0 0 0 0 0 0 0 0 0 0 0 0 0 0 0 0 0 0\n",
      " 0 0 0 0 0 0 0 0 0 0 0 0 0 0 0 0 0 0 0 0]\n",
      "Train Predictions:  [0 0 0 ... 0 0 0]\n",
      "Dev Predictions:  [0 0 0 0 0 0 0 1 1 0 0 0 0 0 0 0 0 1 0 0 0 0 0 0 0 0 0 0 0 0 0 0 0 0 0 1 0\n",
      " 0 0 0 0 0 0 0 0 0 1 0 0 0 0 0 0 0 0 0 0 1 1 1 0 1 0 0 1 0 0 0 0 0 1 1 0 1\n",
      " 0 1 0 0 0 0 0 1 0 0 0 0 1 0 0 0 0 1 0 0 0 0 0 0 1 0 0 0 0 0 0 0 1 1 0 0 0\n",
      " 0 0 0 0 0 0 0 0 0 0 0 0 0 0 0 0 0 0 0 0 0 0 0 0 0 0 0 0 0 0 0 0 0 0 0 0 0\n",
      " 1 1 0 0 0 1 1 0 0 0 1 0 1 0 0 0 0 1 0 0 0 1 1 0 0 1 1 0 0 0 0 0 0 0 1 0 1\n",
      " 0 0 0 0 0 1 0 0 0 0 1 0 0 0 0 0 0 0 0 0 1 0 0 1 0 0 0 0 0 0 0 0 0 0 0 1 0\n",
      " 1 0 1 0 0 0 0 0 0 1 0 0 0 0 0 0 0 0 0 0 0 1 0 0 0 0 0 0 0 0 0 0 0 0 0 0 0\n",
      " 0 0 0 1 0 0 0 1 0 0 0 1 0 0 0 0 0 0 0 0 1 0 0 0 1 1 0 0 0 0 0 0 0 0 0 0 0\n",
      " 0 0 0 1 0 0 0 0 0 0 0 0 0 0 0 0 0 0 0 0 0 0 0 0 0 0 0 0 0 0 1 1 0 0 0 0 0\n",
      " 0 0 1 0 0 0 0 0 0 1 0 0 0 1 0 0 0 0 0 0 0 0 0 0 0 0 0 0 0 0 0 1 1 0 1 1 1\n",
      " 1 1 0 1 0 0 1 1 0 1 0 1 0 0 1 0 1 1 0 0 1 0 0 0 0 0 0 0 0 0 1 0 0 0 1 0 0\n",
      " 0 0 0 0 0 0 0 0 1 1 0 0 0 0 1 0 0 0 1 0 0 0 0 0 0 0 0 0 0 0 0 1 0 0 0 1 0\n",
      " 0 0 0 0 1 1 0 0 0 0 1 0 0 0 0 0 0 0 0 0 1 0 1 0 0 0 0 0 0 1 0 0 0 1 1 0 1\n",
      " 0 0 0 0 0 0 1 0 0 0 0 0 0 0 0 0 0 0 0 0 0 0 0 0 0 1 0 0 0 0 0 0 0 0 1 1 0\n",
      " 1 1 0 0 0 0 0 0 0 0 0 0 0 1 0 1 0 0 0 0 0 0 0 0 1 0 1 0 0 0 0 1 1 0 0 0 0\n",
      " 0 1 0 0 1 0 0 0 0 0 1 0 0 0 1 1 0 0 0 0 0 0 1 0 0 0 1 1 0 0 1 1 0 1 0 1 0\n",
      " 1 1 0 1 0 1 1 0 1 0 1 0 0 0 0 0 0 0 0 0 1 0 0 0 0 0 0 1 0 0 1 1 0 1 0 0 0\n",
      " 0 0 1 0 0 0 0 0 0 0 1 0 0 0 0 1 0 0 1 0 1 0 0 0 0 1 0 0 0 1 0 0 0 0 0 0 0\n",
      " 0 0 0 1 0 0 0 0 0 0 0 0 0 0 1 0 0 0 0 0 0 0 0 0 0 0 0 0 0 0 0 0 0 0 0 0 0\n",
      " 0 0 0 0 0 0 0 0 0 0 0 0 0 0 0 0 0 0 0 0 0 0 0 0 0 0 0 0 0 0 0 0 0 0 0 0 0\n",
      " 0 0 0 0 0 0 0 0 0 0 1 0 0 0 0 0 0 0 0 0 0 0 0 0 0 0 0 0 0 0 0 0 0 0 0 0 0\n",
      " 0 0 1 1 0 0 0 0 0 0 0 0 0 0 0 0 0 0 0 0 0 0 0 0 1 0 0 0 0 0 0 0 0 0 1 0 0\n",
      " 0 0 1 0 0 0 0 0 0 0 0 0 0 0 0 0 0 0 0 0 0 0 0 0 0 0 0 0 0 0 0 0 0 0 0 0 0\n",
      " 0 0 0 0 0 0 0 0 0 0 0 0 0 0 0 0 0 0 0 0 0 0 0 0 0 0 0 0 0 0 0 0 0 0 0 0 0\n",
      " 0 0 0 1 0 0 0 0 0 0 0 0 0 0 0 0 0 0 0 0 0 0 0 0 0 0 0 0 0 0 1 1 0 1 0 0 0\n",
      " 0 0 0 0 0 1 1 0 1 0 0 1 1 0 1 0 0 0 0 0 1 1 1 1 1 1 0 0 1 1 0 0 1 0 0 1 0\n",
      " 1 1 0 1 1 1 1 1 1 1 1 1 0 0 0 0 1 1 1 0 0 0 0]\n",
      " Macro F1-Score:  0.8226789510985117\n"
     ]
    }
   ],
   "source": [
    "\n",
    "print(model.evaluate(X_test, y_test))\n",
    "test_loss_content, test_acc_content = model.evaluate(X_test, y_test)\n",
    "print(\"Test Set Accuracy: %0.2f%%\"%(test_acc_content*100))\n",
    "y_pred_test = model.predict([X_test[0][0], X_test[1][0]])\n",
    "y_test_classes_pred = y_pred_test.argmax(axis=-1)\n",
    "y_pred_train = model.predict(X_train)\n",
    "y_train_classes_pred = y_pred_train.argmax(axis=-1)\n",
    "y_pred_dev = model.predict(X_dev)\n",
    "y_dev_classes_pred = y_pred_dev.argmax(axis=-1)\n",
    "print(\" Gold Standard Test: \",old_y_test)\n",
    "print(\"Test Predictions: \",y_test_classes_pred)\n",
    "print(\"Train Predictions: \",y_train_classes_pred)\n",
    "print(\"Dev Predictions: \",y_dev_classes_pred)\n",
    "print(\" Macro F1-Score: \",f1_score(old_y_test, y_test_classes_pred, average='macro'))\n",
    "\n"
   ]
  },
  {
   "cell_type": "code",
   "execution_count": 46,
   "metadata": {},
   "outputs": [
    {
     "name": "stdout",
     "output_type": "stream",
     "text": [
      "              precision    recall  f1-score   support\n",
      "\n",
      "         0.0       0.90      0.96      0.93       645\n",
      "         1.0       0.81      0.65      0.72       189\n",
      "\n",
      "    accuracy                           0.88       834\n",
      "   macro avg       0.85      0.80      0.82       834\n",
      "weighted avg       0.88      0.88      0.88       834\n",
      "\n",
      "[[616  29]\n",
      " [ 67 122]]\n",
      "              precision    recall  f1-score   support\n",
      "\n",
      "         0.0       0.89      0.95      0.92       765\n",
      "         1.0       0.78      0.61      0.68       220\n",
      "\n",
      "    accuracy                           0.87       985\n",
      "   macro avg       0.84      0.78      0.80       985\n",
      "weighted avg       0.87      0.87      0.87       985\n",
      "\n",
      "[[727  38]\n",
      " [ 86 134]]\n"
     ]
    }
   ],
   "source": [
    "from sklearn.metrics import classification_report\n",
    "from sklearn.metrics import confusion_matrix\n",
    "\n",
    "print(classification_report(old_y_test, y_test_classes_pred))\n",
    "print(confusion_matrix(old_y_test, y_test_classes_pred))\n",
    "\n",
    "#type(y_pred_dev)\n",
    "print(classification_report(dev_df.binary.values, y_pred_dev.argmax(axis=-1)))\n",
    "print(confusion_matrix(dev_df.binary.values, y_pred_dev.argmax(axis=-1)))"
   ]
  },
  {
   "cell_type": "code",
   "execution_count": 47,
   "metadata": {},
   "outputs": [
    {
     "name": "stdout",
     "output_type": "stream",
     "text": [
      "dict_keys(['val_loss', 'val_acc', 'loss', 'acc'])\n"
     ]
    },
    {
     "data": {
      "image/png": "[encoded data removed]",
      "text/plain": [
       "<Figure size 432x288 with 1 Axes>"
      ]
     },
     "metadata": {
      "needs_background": "light"
     },
     "output_type": "display_data"
    },
    {
     "data": {
      "image/png": "[encoded data removed]",
      "text/plain": [
       "<Figure size 432x288 with 1 Axes>"
      ]
     },
     "metadata": {
      "needs_background": "light"
     },
     "output_type": "display_data"
    }
   ],
   "source": [
    "import matplotlib.pyplot as plt\n",
    "# list all data in history\n",
    "print(history.history.keys())\n",
    "# summarize history for accuracy\n",
    "plt.plot(history.history['val_acc'])\n",
    "plt.plot(history.history['acc'])\n",
    "plt.title('model accuracy')\n",
    "plt.ylabel('accuracy')\n",
    "plt.xlabel('epoch')\n",
    "plt.legend(['train', 'test'], loc='upper left')\n",
    "plt.show()\n",
    "# summarize history for loss\n",
    "plt.plot(history.history['loss'])\n",
    "plt.plot(history.history['val_loss'])\n",
    "plt.title('model loss')\n",
    "plt.ylabel('loss')\n",
    "plt.xlabel('epoch')\n",
    "plt.legend(['train', 'test'], loc='upper left')\n",
    "plt.show()"
   ]
  },
  {
   "cell_type": "code",
   "execution_count": 48,
   "metadata": {},
   "outputs": [
    {
     "name": "stdout",
     "output_type": "stream",
     "text": [
      "(834, 2)\n"
     ]
    },
    {
     "data": {
      "image/png": "[encoded data removed]",
      "text/plain": [
       "<Figure size 432x288 with 1 Axes>"
      ]
     },
     "metadata": {
      "needs_background": "light"
     },
     "output_type": "display_data"
    }
   ],
   "source": [
    "import scikitplot as skplt\n",
    "\n",
    "print(y_pred_test.shape)\n",
    "skplt.metrics.plot_roc_curve(old_y_test, y_pred_test)\n",
    "plt.show()"
   ]
  },
  {
   "cell_type": "code",
   "execution_count": null,
   "metadata": {},
   "outputs": [],
   "source": []
  }
 ],
 "metadata": {
  "kernelspec": {
   "display_name": "Python 3",
   "language": "python",
   "name": "python3"
  },
  "language_info": {
   "codemirror_mode": {
    "name": "ipython",
    "version": 3
   },
   "file_extension": ".py",
   "mimetype": "text/x-python",
   "name": "python",
   "nbconvert_exporter": "python",
   "pygments_lexer": "ipython3",
   "version": "3.6.9"
  }
 },
 "nbformat": 4,
 "nbformat_minor": 2
}
