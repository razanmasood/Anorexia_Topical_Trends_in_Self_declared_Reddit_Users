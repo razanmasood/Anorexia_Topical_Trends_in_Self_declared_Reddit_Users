{
 "cells": [
  {
   "cell_type": "markdown",
   "metadata": {},
   "source": [
    "# Binary classification : Anorexia related"
   ]
  },
  {
   "cell_type": "code",
   "execution_count": 1,
   "metadata": {},
   "outputs": [],
   "source": [
    "path_corpus = {\n",
    "    \"test\": \"./path/to/test.csv\",\n",
    "    \"training\": \"./path/to/train.csv\",\n",
    "    \"dev\": \"./path/to/dev.csv\"\n",
    "}"
   ]
  },
  {
   "cell_type": "code",
   "execution_count": 2,
   "metadata": {},
   "outputs": [],
   "source": [
    "def read_corpus(path, ty=\"main_label\"):\n",
    "    data = open(path, \"rb\").read().decode(\"utf-8\").strip()\n",
    "    labels = []\n",
    "    entities = []\n",
    "    texts = []\n",
    "    for instance in data.split(\"####END-POST####\"):\n",
    "        if not instance==\"\":\n",
    "            instance = instance.replace(\"####POST####\\n\", \"\")\n",
    "            label = int(float(instance.split(\"####TITLE####\")[0].strip().split(\"\\n\")[0]))\n",
    "            if ty == \"binary\":\n",
    "                label = int(label < 7)\n",
    "            t = instance.split(\"####TEXT####\")[1].strip()\n",
    "            text = []\n",
    "            ent = []\n",
    "            for x in t.split(\"\\n\"):\n",
    "                if not x==\"\":\n",
    "                    text.append(x.split(\"\\t\")[0])\n",
    "                    ent.append(x.split(\"\\t\")[1])\n",
    "            entities.append(ent)\n",
    "            texts.append(text)\n",
    "            labels.append(label)\n",
    "    return {\"entities\": entities, \"texts\": texts, \"labels\": labels}\n",
    "training = read_corpus(path_corpus[\"training\"], \"binary\")\n",
    "dev = read_corpus(path_corpus[\"dev\"], \"binary\")\n",
    "test = read_corpus(path_corpus[\"test\"], \"binary\")"
   ]
  },
  {
   "cell_type": "code",
   "execution_count": 3,
   "metadata": {},
   "outputs": [],
   "source": [
    "def cast_data(entities, text, dict_entities=None, word2index=None, modify=True):\n",
    "    dict_entities = {} if dict_entities is None else dict_entities\n",
    "    entities_c = []\n",
    "    for x in entities:\n",
    "        entities_c_l = []\n",
    "        for y in x:\n",
    "            if not y in dict_entities and modify:\n",
    "                dict_entities[y] = len(dict_entities)\n",
    "            if not y in dict_entities:\n",
    "                dict_entities[y] = dict_entities[\"__UNK__\"]\n",
    "            entities_c_l.append(dict_entities[y])\n",
    "        entities_c.append(entities_c_l)\n",
    "        \n",
    "    text_c = []\n",
    "    for x in text:\n",
    "        text_c.append([0 if not y in word2index else word2index[y] for y in x])\n",
    "    return entities_c, text_c, dict_entities"
   ]
  },
  {
   "cell_type": "code",
   "execution_count": 5,
   "metadata": {},
   "outputs": [],
   "source": [
    "import pickle\n",
    "import numpy as np\n",
    "\n",
    "max_seq_len = 500\n",
    "\n",
    "e, full_vocab = pickle.load(open(\"resources/embedding.pkl\",\"rb\"))\n",
    "e = np.vstack((np.zeros((1, e.shape[1])),\n",
    "                            np.random.uniform(-0.25, 0.25, e.shape[1]), e))\n",
    "full_vocab[\"__UNK__\"] = 0\n",
    "full_vocab[\"__PAD__\"] = 1"
   ]
  },
  {
   "cell_type": "code",
   "execution_count": 6,
   "metadata": {},
   "outputs": [],
   "source": [
    "train_entities, train_p, d_ent = cast_data(training[\"entities\"], training[\"texts\"], dict_entities={\"__UNK__\":0}, word2index=full_vocab)\n",
    "dev_entities, dev_p, d_ent = cast_data(dev[\"entities\"], dev[\"texts\"], dict_entities=d_ent, word2index=full_vocab, modify=False)\n",
    "test_entities, test_p, d_ent = cast_data(test[\"entities\"], test[\"texts\"], dict_entities=d_ent, word2index=full_vocab, modify=False)"
   ]
  },
  {
   "cell_type": "code",
   "execution_count": 7,
   "metadata": {},
   "outputs": [
    {
     "name": "stderr",
     "output_type": "stream",
     "text": [
      "Using TensorFlow backend.\n"
     ]
    }
   ],
   "source": [
    "from keras.preprocessing.sequence import pad_sequences\n",
    "d_ent[\"__PAD__\"] = len(d_ent)\n",
    "\n",
    "# pad sequence\n",
    "train_entities = pad_sequences(train_entities, maxlen=max_seq_len, padding=\"post\", value=d_ent[\"__PAD__\"])\n",
    "dev_entities = pad_sequences(dev_entities, maxlen=max_seq_len, padding=\"post\", value=d_ent[\"__PAD__\"])\n",
    "test_entities = pad_sequences(test_entities, maxlen=max_seq_len, padding=\"post\", value=d_ent[\"__PAD__\"])\n",
    "\n",
    "train_p = pad_sequences(train_p, maxlen=max_seq_len, padding=\"post\", value=full_vocab[\"__PAD__\"])\n",
    "dev_p = pad_sequences(dev_p, maxlen=max_seq_len, padding=\"post\", value=full_vocab[\"__PAD__\"])\n",
    "test_p = pad_sequences(test_p, maxlen=max_seq_len, padding=\"post\", value=full_vocab[\"__PAD__\"])"
   ]
  },
  {
   "cell_type": "code",
   "execution_count": 28,
   "metadata": {
    "scrolled": true
   },
   "outputs": [
    {
     "name": "stdout",
     "output_type": "stream",
     "text": [
      "WARNING:tensorflow:From /Library/Frameworks/Python.framework/Versions/3.7/lib/python3.7/site-packages/keras/backend/tensorflow_backend.py:3445: calling dropout (from tensorflow.python.ops.nn_ops) with keep_prob is deprecated and will be removed in a future version.\n",
      "Instructions for updating:\n",
      "Please use `rate` instead of `keep_prob`. Rate should be set to `rate = 1 - keep_prob`.\n",
      "__________________________________________________________________________________________________\n",
      "Layer (type)                    Output Shape         Param #     Connected to                     \n",
      "==================================================================================================\n",
      "pattern_input (InputLayer)      (None, 500)          0                                            \n",
      "__________________________________________________________________________________________________\n",
      "input_5 (InputLayer)            (None, 500)          0                                            \n",
      "__________________________________________________________________________________________________\n",
      "embedding_9 (Embedding)         (None, 500, 200)     3455600     pattern_input[0][0]              \n",
      "__________________________________________________________________________________________________\n",
      "embedding_10 (Embedding)        (None, 500, 50)      5000        input_5[0][0]                    \n",
      "__________________________________________________________________________________________________\n",
      "concatenate_5 (Concatenate)     (None, 500, 250)     0           embedding_9[0][0]                \n",
      "                                                                 embedding_10[0][0]               \n",
      "__________________________________________________________________________________________________\n",
      "conv1d_5 (Conv1D)               (None, 496, 128)     160128      concatenate_5[0][0]              \n",
      "__________________________________________________________________________________________________\n",
      "global_max_pooling1d_5 (GlobalM (None, 128)          0           conv1d_5[0][0]                   \n",
      "__________________________________________________________________________________________________\n",
      "dropout_1 (Dropout)             (None, 128)          0           global_max_pooling1d_5[0][0]     \n",
      "__________________________________________________________________________________________________\n",
      "dense_5 (Dense)                 (None, 1)            129         dropout_1[0][0]                  \n",
      "==================================================================================================\n",
      "Total params: 3,620,857\n",
      "Trainable params: 165,257\n",
      "Non-trainable params: 3,455,600\n",
      "__________________________________________________________________________________________________\n",
      "Train on 3289 samples, validate on 985 samples\n",
      "Epoch 1/20\n",
      "3289/3289 [==============================] - 35s 11ms/step - loss: 0.3749 - acc: 0.8425 - val_loss: 0.3626 - val_acc: 0.8558\n",
      "Epoch 2/20\n",
      "3289/3289 [==============================] - 35s 11ms/step - loss: 0.2836 - acc: 0.8936 - val_loss: 0.3045 - val_acc: 0.8731\n",
      "Epoch 3/20\n",
      "3289/3289 [==============================] - 62s 19ms/step - loss: 0.2362 - acc: 0.9164 - val_loss: 0.3056 - val_acc: 0.8812\n",
      "Epoch 4/20\n",
      "3289/3289 [==============================] - 67s 20ms/step - loss: 0.1933 - acc: 0.9383 - val_loss: 0.2900 - val_acc: 0.8822\n",
      "Epoch 5/20\n",
      "3289/3289 [==============================] - 64s 20ms/step - loss: 0.1529 - acc: 0.9535 - val_loss: 0.3108 - val_acc: 0.8772\n",
      "Epoch 6/20\n",
      "3289/3289 [==============================] - 64s 20ms/step - loss: 0.1310 - acc: 0.9696 - val_loss: 0.2957 - val_acc: 0.8772\n",
      "\n",
      "Epoch 00006: ReduceLROnPlateau reducing learning rate to 0.1.\n",
      "Epoch 7/20\n",
      "3289/3289 [==============================] - 64s 19ms/step - loss: 0.0960 - acc: 0.9827 - val_loss: 0.2931 - val_acc: 0.8802\n",
      "Epoch 8/20\n",
      "3289/3289 [==============================] - 64s 20ms/step - loss: 0.0934 - acc: 0.9824 - val_loss: 0.2893 - val_acc: 0.8843\n",
      "Epoch 9/20\n",
      "3289/3289 [==============================] - 65s 20ms/step - loss: 0.0930 - acc: 0.9830 - val_loss: 0.2913 - val_acc: 0.8843\n",
      "Epoch 10/20\n",
      "3289/3289 [==============================] - 51s 16ms/step - loss: 0.0877 - acc: 0.9827 - val_loss: 0.2929 - val_acc: 0.8832\n",
      "\n",
      "Epoch 00010: ReduceLROnPlateau reducing learning rate to 0.010000000149011612.\n",
      "Epoch 11/20\n",
      "3289/3289 [==============================] - 32s 10ms/step - loss: 0.0878 - acc: 0.9848 - val_loss: 0.2929 - val_acc: 0.8832\n",
      "Epoch 12/20\n",
      "3289/3289 [==============================] - 58s 18ms/step - loss: 0.0857 - acc: 0.9848 - val_loss: 0.2922 - val_acc: 0.8863\n",
      "\n",
      "Epoch 00012: ReduceLROnPlateau reducing learning rate to 0.0009999999776482583.\n",
      "Epoch 00012: early stopping\n"
     ]
    }
   ],
   "source": [
    "np.random.seed(500)\n",
    "\n",
    "from keras.models import Model\n",
    "from keras import losses\n",
    "from keras.layers import Dense, Embedding, Dropout\n",
    "from keras.layers import LSTM, Bidirectional, Input\n",
    "from keras.layers import Convolution1D, GlobalMaxPooling1D\n",
    "from keras.layers import concatenate\n",
    "from sklearn.metrics import f1_score\n",
    "from keras.initializers import glorot_normal\n",
    "\n",
    "X_train = [train_entities, train_p]\n",
    "X_dev = [dev_entities, dev_p]\n",
    "X_test = [test_entities, test_p]\n",
    "y_train = training[\"labels\"]\n",
    "y_dev = dev[\"labels\"]\n",
    "y_test = test[\"labels\"]\n",
    "x_input = Input(shape=(max_seq_len,), dtype='float32', name='pattern_input')\n",
    "embedding_layer = Embedding(input_dim=e.shape[0],\n",
    "                            output_dim=e.shape[1],\n",
    "                            weights=[e], trainable=False) \n",
    "word = embedding_layer(x_input)\n",
    "ent_input = Input(shape=(max_seq_len,))\n",
    "ent = Embedding(input_dim=len(d_ent), output_dim=50, trainable=True)(ent_input)\n",
    "\n",
    "x = concatenate([word, ent])\n",
    "x = Convolution1D(128, 5, padding=\"valid\", strides=1, activation='tanh')(x)\n",
    "x = GlobalMaxPooling1D()(x)\n",
    "x = Dropout(0.2)(x)\n",
    "x = Dense(1, activation='sigmoid')(x) \n",
    "model = Model(inputs=[ent_input, x_input], outputs=x)\n",
    "model.summary()\n",
    "model.compile(loss='binary_crossentropy', optimizer=\"adadelta\", metrics=['acc'])\n",
    "from keras.callbacks import ReduceLROnPlateau, EarlyStopping\n",
    "\n",
    "callbacks = [\n",
    "        ReduceLROnPlateau(patience=2, min_lr=0.0001, verbose=1, factor=0.1),\n",
    "    EarlyStopping(patience=4, verbose=1)]\n",
    "history = model.fit(X_train, y_train, epochs=20, \n",
    "                    batch_size=16, \n",
    "                    shuffle=True, verbose=1, callbacks=callbacks, validation_data=(X_dev, y_dev))"
   ]
  },
  {
   "cell_type": "code",
   "execution_count": 29,
   "metadata": {},
   "outputs": [
    {
     "name": "stdout",
     "output_type": "stream",
     "text": [
      "834/834 [==============================] - 5s 5ms/step\n",
      "Test Set Accuracy: 89.09%\n",
      " Macro F1-Score:  0.8261206254653761\n"
     ]
    },
    {
     "data": {
      "image/png": "[encoded data removed]",
      "text/plain": [
       "<Figure size 432x288 with 1 Axes>"
      ]
     },
     "metadata": {
      "needs_background": "light"
     },
     "output_type": "display_data"
    },
    {
     "data": {
      "image/png": "[encoded data removed]",
      "text/plain": [
       "<Figure size 432x288 with 1 Axes>"
      ]
     },
     "metadata": {
      "needs_background": "light"
     },
     "output_type": "display_data"
    }
   ],
   "source": [
    "import matplotlib.pyplot as plt\n",
    "test_loss_content, test_acc_content = model.evaluate(X_test, y_test)\n",
    "print(\"Test Set Accuracy: %0.2f%%\"%(test_acc_content*100))\n",
    "y_pred_test = model.predict(X_test)\n",
    "y_test_classes_pred = (y_pred_test>0.5).astype(np.int)\n",
    "y_pred_train = model.predict(X_train)\n",
    "y_train_classes_pred = (y_pred_train>0.5).astype(np.int)\n",
    "y_pred_dev = model.predict(X_dev)\n",
    "y_dev_classes_pred = (y_pred_dev>0.5).astype(np.int)\n",
    "print(\" Macro F1-Score: \",f1_score(y_test, y_test_classes_pred, average='macro'))\n",
    "from sklearn.metrics import roc_curve\n",
    "from sklearn.metrics import auc\n",
    "fpr_keras, tpr_keras, thresholds_keras = roc_curve(y_test, y_pred_test)\n",
    "auc_keras = auc(fpr_keras, tpr_keras)\n",
    "plt.figure(1)\n",
    "plt.plot([0, 1], [0, 1], 'k--')\n",
    "plt.plot(fpr_keras, tpr_keras, label='Keras (area = {:.3f})'.format(auc_keras))\n",
    "plt.xlabel('False positive rate')\n",
    "plt.ylabel('True positive rate')\n",
    "plt.title('ROC curve')\n",
    "plt.legend(loc='best')\n",
    "plt.show()\n",
    "plt.show()\n",
    "# Zoom in view of the upper left corner.\n",
    "plt.figure(2)\n",
    "plt.xlim(0, 0.2)\n",
    "plt.ylim(0.8, 1)\n",
    "plt.plot([0, 1], [0, 1], 'k--')\n",
    "plt.plot(fpr_keras, tpr_keras, label='Keras (area = {:.3f})'.format(auc_keras))\n",
    "plt.xlabel('False positive rate')\n",
    "plt.ylabel('True positive rate')\n",
    "plt.title('ROC curve (zoomed in at top left)')\n",
    "plt.legend(loc='best')\n",
    "plt.show()\n",
    "plt.show()"
   ]
  },
  {
   "cell_type": "code",
   "execution_count": null,
   "metadata": {},
   "outputs": [],
   "source": []
  },
  {
   "cell_type": "code",
   "execution_count": 30,
   "metadata": {},
   "outputs": [
    {
     "name": "stdout",
     "output_type": "stream",
     "text": [
      "              precision    recall  f1-score   support\n",
      "\n",
      "           0       0.90      0.95      0.93       765\n",
      "           1       0.80      0.65      0.72       220\n",
      "\n",
      "   micro avg       0.89      0.89      0.89       985\n",
      "   macro avg       0.85      0.80      0.82       985\n",
      "weighted avg       0.88      0.89      0.88       985\n",
      "\n",
      "[[730  35]\n",
      " [ 77 143]]\n",
      "              precision    recall  f1-score   support\n",
      "\n",
      "           0       0.90      0.97      0.93       645\n",
      "           1       0.86      0.62      0.72       189\n",
      "\n",
      "   micro avg       0.89      0.89      0.89       834\n",
      "   macro avg       0.88      0.79      0.83       834\n",
      "weighted avg       0.89      0.89      0.88       834\n",
      "\n",
      "[[626  19]\n",
      " [ 72 117]]\n"
     ]
    }
   ],
   "source": [
    "from sklearn.metrics import classification_report\n",
    "from sklearn.metrics import confusion_matrix\n",
    "\n",
    "y_pred_dev = model.predict(X_dev)\n",
    "y_dev_classes_pred = (y_pred_dev > 0.5).astype(np.int)\n",
    "print(classification_report(dev[\"labels\"], y_dev_classes_pred))\n",
    "print(confusion_matrix(dev[\"labels\"], y_dev_classes_pred))\n",
    "\n",
    "y_pred_test = model.predict(X_test)\n",
    "y_test_classes_pred = (y_pred_test > 0.5).astype(np.int)\n",
    "print(classification_report(test[\"labels\"], y_test_classes_pred))\n",
    "print(confusion_matrix(test[\"labels\"], y_test_classes_pred))"
   ]
  },
  {
   "cell_type": "code",
   "execution_count": 31,
   "metadata": {},
   "outputs": [],
   "source": []
  },
  {
   "cell_type": "code",
   "execution_count": null,
   "metadata": {},
   "outputs": [],
   "source": []
  }
 ],
 "metadata": {
  "kernelspec": {
   "display_name": "Python 3",
   "language": "python",
   "name": "python3"
  },
  "language_info": {
   "codemirror_mode": {
    "name": "ipython",
    "version": 3
   },
   "file_extension": ".py",
   "mimetype": "text/x-python",
   "name": "python",
   "nbconvert_exporter": "python",
   "pygments_lexer": "ipython3",
   "version": "3.6.10"
  }
 },
 "nbformat": 4,
 "nbformat_minor": 4
}
